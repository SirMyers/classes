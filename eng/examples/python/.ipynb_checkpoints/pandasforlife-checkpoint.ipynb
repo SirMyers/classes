{
 "metadata": {
  "name": "",
  "signature": "sha256:071b9c78f6468a1b14a7f9ced6f05c252c420c6d3ab2fb73b2d2cea5bd4e842d"
 },
 "nbformat": 3,
 "nbformat_minor": 0,
 "worksheets": [
  {
   "cells": [
    {
     "cell_type": "code",
     "collapsed": false,
     "input": [
      "import pandas as pd\n",
      "d = pd.read_csv('extracted.csv')"
     ],
     "language": "python",
     "metadata": {},
     "outputs": [],
     "prompt_number": 3
    },
    {
     "cell_type": "code",
     "collapsed": false,
     "input": [
      "d.Hour.hist()"
     ],
     "language": "python",
     "metadata": {},
     "outputs": [
      {
       "metadata": {},
       "output_type": "pyout",
       "prompt_number": 13,
       "text": [
        "<matplotlib.axes.AxesSubplot at 0x10a392910>"
       ]
      }
     ],
     "prompt_number": 13
    }
   ],
   "metadata": {}
  }
 ]
}